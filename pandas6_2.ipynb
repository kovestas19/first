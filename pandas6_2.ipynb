{
 "cells": [
  {
   "cell_type": "code",
   "execution_count": 21,
   "id": "37feadef",
   "metadata": {},
   "outputs": [
    {
     "data": {
      "text/plain": [
       "region\n",
       "undefined         99991\n",
       "Центр                 3\n",
       "Дальний Восток        3\n",
       "Северо-Запад          3\n",
       "Name: count, dtype: int64"
      ]
     },
     "execution_count": 21,
     "metadata": {},
     "output_type": "execute_result"
    }
   ],
   "source": [
    "import pandas as pd\n",
    "keywords = pd.read_csv('C:\\\\Users\\\\koves\\\\Desktop\\\\Magistratura\\\\Python\\\\keywords.csv')\n",
    "keywords.head(25)\n",
    "\n",
    "def geo_keywords(data):\n",
    "    geo = {\n",
    "    'Центр': ['москва', 'тула', 'ярославль'],\n",
    "    'Северо-Запад': ['петербург', 'псков', 'мурманск'],\n",
    "    'Дальний Восток': ['владивосток', 'сахалин', 'хабаровск']\n",
    "    }\n",
    "    if data['keyword'] in geo['Центр']:\n",
    "        geo_key = 'Центр'\n",
    "    elif data['keyword'] in geo['Северо-Запад']:\n",
    "        geo_key = 'Северо-Запад'\n",
    "    elif data['keyword'] in geo['Дальний Восток']:\n",
    "        geo_key = 'Дальний Восток'\n",
    "    else:\n",
    "        geo_key = 'undefined'       \n",
    "    return geo_key\n",
    "\n",
    "keywords['region'] = keywords.apply(geo_keywords,axis=1)\n",
    "keywords['region'].value_counts().head()\n",
    "\n",
    "\n",
    "\n",
    "\n"
   ]
  }
 ],
 "metadata": {
  "kernelspec": {
   "display_name": "Python 3 (ipykernel)",
   "language": "python",
   "name": "python3"
  },
  "language_info": {
   "codemirror_mode": {
    "name": "ipython",
    "version": 3
   },
   "file_extension": ".py",
   "mimetype": "text/x-python",
   "name": "python",
   "nbconvert_exporter": "python",
   "pygments_lexer": "ipython3",
   "version": "3.11.5"
  }
 },
 "nbformat": 4,
 "nbformat_minor": 5
}
