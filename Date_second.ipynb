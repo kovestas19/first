{
 "cells": [
  {
   "cell_type": "code",
   "execution_count": 16,
   "id": "168ea179",
   "metadata": {},
   "outputs": [
    {
     "name": "stdout",
     "output_type": "stream",
     "text": [
      "['2023-02-25', '2023-02-26', '2023-02-27', '2023-02-28', '2023-03-01', '2023-03-02']\n",
      "[]\n"
     ]
    }
   ],
   "source": [
    "import time\n",
    "from datetime import datetime\n",
    "from datetime import timedelta\n",
    "def date_range(date_start,date_end):\n",
    "    list_=[]\n",
    "    try:\n",
    "        date_start = datetime.strptime(date_start,'%d.%m.%Y')\n",
    "        date_end = datetime.strptime(date_end,'%d.%m.%Y')\n",
    "        while date_start<=date_end:\n",
    "            list_date = datetime.strftime(date_start,'%Y-%m-%d')\n",
    "            list_.append(list_date)\n",
    "            date_start += timedelta(days=1)\n",
    "        print(list_)\n",
    "    except:\n",
    "        print(list_)\n",
    "    \n",
    "date_start_good = '25.02.2023'\n",
    "date_end_good = '02.03.2023'\n",
    "date_start_bad = '25-02-2023'\n",
    "date_end_bad = '02-03-2023'\n",
    "date_range(date_start_good,date_end_good)\n",
    "date_range(date_start_bad,date_end_bad)\n"
   ]
  },
  {
   "cell_type": "code",
   "execution_count": null,
   "id": "41431e3a",
   "metadata": {},
   "outputs": [],
   "source": []
  }
 ],
 "metadata": {
  "kernelspec": {
   "display_name": "Python 3 (ipykernel)",
   "language": "python",
   "name": "python3"
  },
  "language_info": {
   "codemirror_mode": {
    "name": "ipython",
    "version": 3
   },
   "file_extension": ".py",
   "mimetype": "text/x-python",
   "name": "python",
   "nbconvert_exporter": "python",
   "pygments_lexer": "ipython3",
   "version": "3.11.5"
  }
 },
 "nbformat": 4,
 "nbformat_minor": 5
}
