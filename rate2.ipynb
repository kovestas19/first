{
 "cells": [
  {
   "cell_type": "code",
   "execution_count": 24,
   "id": "734a859f",
   "metadata": {},
   "outputs": [
    {
     "name": "stdout",
     "output_type": "stream",
     "text": [
      "93.2801\n",
      "0.502\n"
     ]
    }
   ],
   "source": [
    "import requests\n",
    "class Rate:\n",
    "    def __init__(self,diff=False):\n",
    "        self.currencies_link = requests.get('https://www.cbr-xml-daily.ru/daily_json.js').json()\n",
    "        self.diff = diff\n",
    "    def getRate(self,a3c):\n",
    "        self.a3c = a3c\n",
    "        currency = self.currencies_link['Valute'][a3c]['Value']\n",
    "        if self.diff == True:\n",
    "            result = currency - self.currencies_link['Valute'][a3c]['Previous']\n",
    "        else:\n",
    "            result = currency\n",
    "        return round(result,4)\n",
    "\n",
    "a = Rate()\n",
    "print(a.getRate('USD'))\n",
    "\n",
    "b = Rate(diff=True)\n",
    "print(b.getRate('EUR'))"
   ]
  },
  {
   "cell_type": "code",
   "execution_count": null,
   "id": "9ef550f4",
   "metadata": {},
   "outputs": [],
   "source": []
  }
 ],
 "metadata": {
  "kernelspec": {
   "display_name": "Python 3 (ipykernel)",
   "language": "python",
   "name": "python3"
  },
  "language_info": {
   "codemirror_mode": {
    "name": "ipython",
    "version": 3
   },
   "file_extension": ".py",
   "mimetype": "text/x-python",
   "name": "python",
   "nbconvert_exporter": "python",
   "pygments_lexer": "ipython3",
   "version": "3.11.5"
  }
 },
 "nbformat": 4,
 "nbformat_minor": 5
}
