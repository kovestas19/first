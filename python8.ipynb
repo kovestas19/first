{
 "cells": [
  {
   "cell_type": "code",
   "execution_count": 95,
   "id": "a2737e4d",
   "metadata": {},
   "outputs": [
    {
     "name": "stdout",
     "output_type": "stream",
     "text": [
      "Сколько заработал игрок:  -320\n",
      "Среднее значение за одну игру:  -0.32\n"
     ]
    }
   ],
   "source": [
    "import numpy as np\n",
    "import pandas as pd\n",
    "def casino(number):\n",
    "    match number:\n",
    "        case 777:\n",
    "            return 200\n",
    "        case 999:\n",
    "            return 100\n",
    "        case 555:\n",
    "            return 50\n",
    "        case 333:\n",
    "            return 15\n",
    "        case 111:\n",
    "            return 10\n",
    "    if str(number)[-2:] == '77':\n",
    "        return 5\n",
    "    elif str(number)[-1:] == '7':\n",
    "        return 3\n",
    "    elif str(number)[-2:] == '00':\n",
    "        return 2\n",
    "    elif str(number)[-1:] == '0':\n",
    "        return 1\n",
    "    else: return 0\n",
    "    \n",
    "trials = 1000\n",
    "prize = 0\n",
    "result = []\n",
    "diff = []\n",
    "for i in range(trials):\n",
    "    a = casino(np.random.randint(1, 999))\n",
    "    prize = prize + a\n",
    "    result.append(a)\n",
    "    diff.append(a-1)\n",
    "    i = i+i\n",
    "\n",
    "\n",
    "df_result = pd.DataFrame({\n",
    "    'result': result,\n",
    "    'diff': diff\n",
    "})\n",
    "print(\"Сколько заработал игрок: \", (prize-trials))\n",
    "print(\"Среднее значение за одну игру: \", (df_result['diff'].mean()))\n"
   ]
  }
 ],
 "metadata": {
  "kernelspec": {
   "display_name": "Python 3 (ipykernel)",
   "language": "python",
   "name": "python3"
  },
  "language_info": {
   "codemirror_mode": {
    "name": "ipython",
    "version": 3
   },
   "file_extension": ".py",
   "mimetype": "text/x-python",
   "name": "python",
   "nbconvert_exporter": "python",
   "pygments_lexer": "ipython3",
   "version": "3.11.5"
  }
 },
 "nbformat": 4,
 "nbformat_minor": 5
}
