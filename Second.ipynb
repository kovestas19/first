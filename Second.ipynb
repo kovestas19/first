{
 "cells": [
  {
   "cell_type": "code",
   "execution_count": 60,
   "id": "627ee058",
   "metadata": {},
   "outputs": [],
   "source": [
    "import json\n",
    "purchases={}\n",
    "user_id='user_id'\n",
    "category='category'\n",
    "with open('C:\\\\Users\\\\koves\\\\Desktop\\\\Magistratura\\\\Python\\\\purchase_log.txt','r',encoding='utf-8') as f_1:\n",
    "    for i,line in enumerate(f_1):\n",
    "        line = json.loads(line)\n",
    "        if user_id == line['user_id'] and category == line['category']:\n",
    "            continue\n",
    "        else:\n",
    "            user_id = line['user_id']\n",
    "            category = line['category']\n",
    "            purchases[user_id] = category\n",
    "            \n",
    "import csv\n",
    "with open('C:\\\\Users\\\\koves\\\\Desktop\\\\Magistratura\\\\Python\\\\visit_log.csv','r',encoding='utf-8') as visit_log,open('C:\\\\Users\\\\koves\\\\Desktop\\\\Magistratura\\\\Python\\\\funnel.csv','w',encoding='utf-8') as funnel:\n",
    "    v_l = csv.DictReader(visit_log, delimiter=',')\n",
    "    for i,raw in enumerate(v_l):\n",
    "        if raw['user_id'] in purchases.keys():\n",
    "            raw['category'] = purchases[raw['user_id']]\n",
    "            writer = csv.DictWriter(funnel,delimiter=',', lineterminator='\\n',fieldnames = raw.keys())\n",
    "            writer.writerow(raw)\n",
    "            \n",
    "    \n",
    "            \n",
    "\n",
    "        "
   ]
  },
  {
   "cell_type": "code",
   "execution_count": null,
   "id": "5318ba67",
   "metadata": {},
   "outputs": [],
   "source": []
  }
 ],
 "metadata": {
  "kernelspec": {
   "display_name": "Python 3 (ipykernel)",
   "language": "python",
   "name": "python3"
  },
  "language_info": {
   "codemirror_mode": {
    "name": "ipython",
    "version": 3
   },
   "file_extension": ".py",
   "mimetype": "text/x-python",
   "name": "python",
   "nbconvert_exporter": "python",
   "pygments_lexer": "ipython3",
   "version": "3.11.5"
  }
 },
 "nbformat": 4,
 "nbformat_minor": 5
}
