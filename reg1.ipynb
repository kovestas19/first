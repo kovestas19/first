{
 "cells": [
  {
   "cell_type": "code",
   "execution_count": 83,
   "id": "1b2316da",
   "metadata": {},
   "outputs": [
    {
     "name": "stdout",
     "output_type": "stream",
     "text": [
      "Номер а112рр валиден. Регион: 779\n"
     ]
    }
   ],
   "source": [
    "import re\n",
    "car_id = 'а112рр779'\n",
    "if re.fullmatch('[А|В|С|Е|Н|К|М|О|Р|Т|Х|У]\\d{3}[А|В|С|Е|Н|К|М|О|Р|Т|Х|У][А|В|С|Е|Н|К|М|О|Р|Т|Х|У]\\d{2,3}',car_id.upper()):\n",
    "    number = re.findall('.{6}',car_id)\n",
    "    region = re.split('.{6}',car_id)\n",
    "    print('Номер ' + number[0] + ' валиден. Регион: '+ region[1])\n",
    "else:\n",
    "    print('Номер не валиден')"
   ]
  },
  {
   "cell_type": "code",
   "execution_count": null,
   "id": "c1345e42",
   "metadata": {},
   "outputs": [],
   "source": []
  }
 ],
 "metadata": {
  "kernelspec": {
   "display_name": "Python 3 (ipykernel)",
   "language": "python",
   "name": "python3"
  },
  "language_info": {
   "codemirror_mode": {
    "name": "ipython",
    "version": 3
   },
   "file_extension": ".py",
   "mimetype": "text/x-python",
   "name": "python",
   "nbconvert_exporter": "python",
   "pygments_lexer": "ipython3",
   "version": "3.11.5"
  }
 },
 "nbformat": 4,
 "nbformat_minor": 5
}
