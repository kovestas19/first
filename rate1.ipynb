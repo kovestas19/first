{
 "cells": [
  {
   "cell_type": "code",
   "execution_count": 1,
   "id": "ea7104af",
   "metadata": {},
   "outputs": [
    {
     "name": "stdout",
     "output_type": "stream",
     "text": [
      "СДР (специальные права заимствования)\n"
     ]
    }
   ],
   "source": [
    "import requests\n",
    "currencies_link = requests.get('https://www.cbr-xml-daily.ru/daily_json.js').json()\n",
    "max_rate = 0\n",
    "for i,j in enumerate(currencies_link['Valute']): \n",
    "    alpha3code = list(currencies_link['Valute'].keys())[i]\n",
    "    rate = currencies_link['Valute'][alpha3code]['Value'] / currencies_link['Valute'][alpha3code]['Nominal']\n",
    "    if rate>max_rate:\n",
    "        max_rate=rate\n",
    "        name_max_rate = currencies_link['Valute'][alpha3code]['Name']\n",
    "    i = i+1\n",
    "print(name_max_rate)   "
   ]
  }
 ],
 "metadata": {
  "kernelspec": {
   "display_name": "Python 3 (ipykernel)",
   "language": "python",
   "name": "python3"
  },
  "language_info": {
   "codemirror_mode": {
    "name": "ipython",
    "version": 3
   },
   "file_extension": ".py",
   "mimetype": "text/x-python",
   "name": "python",
   "nbconvert_exporter": "python",
   "pygments_lexer": "ipython3",
   "version": "3.11.5"
  }
 },
 "nbformat": 4,
 "nbformat_minor": 5
}
