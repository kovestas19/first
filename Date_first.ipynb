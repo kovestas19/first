{
 "cells": [
  {
   "cell_type": "code",
   "execution_count": 29,
   "id": "bcf46c5e",
   "metadata": {},
   "outputs": [
    {
     "name": "stdout",
     "output_type": "stream",
     "text": [
      "Monday, January 31, 2022\n",
      "Monday, 31.01.22\n",
      "Monday, 31 January 2022\n"
     ]
    }
   ],
   "source": [
    "from datetime import datetime\n",
    "def moscow_times(date):\n",
    "    new_date = datetime.strftime(date,'%A, %B %d, %Y')\n",
    "    return new_date\n",
    "def guardian(date):\n",
    "    new_date = datetime.strftime(date,'%A, %d.%m.%y')\n",
    "    return new_date\n",
    "def daily_news(date):\n",
    "    new_date = datetime.strftime(date, '%A, %d %B %Y')\n",
    "    return new_date\n",
    "\n",
    "\n",
    "input_date = '2022-01-31'\n",
    "input_date = datetime.strptime(input_date,'%Y-%m-%d')\n",
    "print(moscow_times(input_date))\n",
    "print(guardian(input_date))\n",
    "print(daily_news(input_date))\n"
   ]
  },
  {
   "cell_type": "code",
   "execution_count": null,
   "id": "f028ca15",
   "metadata": {},
   "outputs": [],
   "source": []
  }
 ],
 "metadata": {
  "kernelspec": {
   "display_name": "Python 3 (ipykernel)",
   "language": "python",
   "name": "python3"
  },
  "language_info": {
   "codemirror_mode": {
    "name": "ipython",
    "version": 3
   },
   "file_extension": ".py",
   "mimetype": "text/x-python",
   "name": "python",
   "nbconvert_exporter": "python",
   "pygments_lexer": "ipython3",
   "version": "3.11.5"
  }
 },
 "nbformat": 4,
 "nbformat_minor": 5
}
